{
 "cells": [
  {
   "cell_type": "markdown",
   "id": "9b015965-d4d3-47be-9477-269d9ac1cd43",
   "metadata": {},
   "source": [
    "# Download Youtube videos from url"
   ]
  },
  {
   "cell_type": "code",
   "execution_count": 9,
   "id": "58de0c9a-10ac-4e75-b728-9b742a121603",
   "metadata": {},
   "outputs": [
    {
     "name": "stdin",
     "output_type": "stream",
     "text": [
      "Enter Youtube video url:  https://www.youtube.com/watch?v=KpedmJdrTpY\n"
     ]
    },
    {
     "name": "stdout",
     "output_type": "stream",
     "text": [
      "Video downloaded!\n"
     ]
    }
   ],
   "source": [
    "import pytube\n",
    "url = input('Enter Youtube video url: ')\n",
    "pytube.YouTube(url).streams.get_highest_resolution().download('../Downloads/')\n",
    "print('Video downloaded!')"
   ]
  }
 ],
 "metadata": {
  "kernelspec": {
   "display_name": "Python 3 (ipykernel)",
   "language": "python",
   "name": "python3"
  },
  "language_info": {
   "codemirror_mode": {
    "name": "ipython",
    "version": 3
   },
   "file_extension": ".py",
   "mimetype": "text/x-python",
   "name": "python",
   "nbconvert_exporter": "python",
   "pygments_lexer": "ipython3",
   "version": "3.9.4"
  }
 },
 "nbformat": 4,
 "nbformat_minor": 5
}
